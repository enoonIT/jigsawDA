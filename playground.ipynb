{
 "cells": [
  {
   "cell_type": "code",
   "execution_count": 1,
   "metadata": {},
   "outputs": [],
   "source": [
    "import torch\n",
    "from torch import nn\n",
    "import sys, os\n",
    "import matplotlib.pyplot as plt\n",
    "from models import caffenet\n",
    "from collections import OrderedDict\n",
    "from PIL import Image\n",
    "import numpy as np\n",
    "from torchvision import transforms\n",
    "import torchvision\n",
    "from random import random"
   ]
  },
  {
   "cell_type": "code",
   "execution_count": 49,
   "metadata": {},
   "outputs": [
    {
     "name": "stdout",
     "output_type": "stream",
     "text": [
      "Using Caffe AlexNet\n"
     ]
    }
   ],
   "source": [
    "X = torch.zeros(2,3,75,75)\n",
    "net = caffenet.caffenet(10,20)"
   ]
  },
  {
   "cell_type": "code",
   "execution_count": 50,
   "metadata": {},
   "outputs": [
    {
     "data": {
      "text/plain": [
       "torch.Size([2, 256, 8, 8])"
      ]
     },
     "execution_count": 50,
     "metadata": {},
     "output_type": "execute_result"
    }
   ],
   "source": [
    "features = nn.Sequential(OrderedDict([\n",
    "    (\"conv1\", nn.Conv2d(3, 96, kernel_size=11, stride=2)),\n",
    "    (\"relu1\", nn.ReLU(inplace=True)),\n",
    "    (\"pool1\", nn.MaxPool2d(kernel_size=3, stride=2, ceil_mode=True)),\n",
    "    (\"norm1\", nn.LocalResponseNorm(5, 1.e-4, 0.75)),\n",
    "    (\"conv2\", nn.Conv2d(96, 256, kernel_size=5, padding=2, groups=2)),\n",
    "    (\"relu2\", nn.ReLU(inplace=True)),\n",
    "    (\"pool2\", nn.MaxPool2d(kernel_size=3, stride=2, ceil_mode=True)),\n",
    "    (\"norm2\", nn.LocalResponseNorm(5, 1.e-4, 0.75)),\n",
    "    (\"conv3\", nn.Conv2d(256, 384, kernel_size=3, padding=1)),\n",
    "    (\"relu3\", nn.ReLU(inplace=True)),\n",
    "    (\"conv4\", nn.Conv2d(384, 384, kernel_size=3, padding=1, groups=2)),\n",
    "    (\"relu4\", nn.ReLU(inplace=True)),\n",
    "    (\"conv5\", nn.Conv2d(384, 256, kernel_size=3, padding=1, groups=2)),\n",
    "    (\"relu5\", nn.ReLU(inplace=True)),\n",
    "#     (\"pool5\", nn.MaxPool2d(kernel_size=3, stride=2, ceil_mode=True)),\n",
    "]))\n",
    "features(X).shape"
   ]
  },
  {
   "cell_type": "code",
   "execution_count": 51,
   "metadata": {},
   "outputs": [
    {
     "data": {
      "text/plain": [
       "(torch.Size([5, 1000]), torch.Size([5, 1000]))"
      ]
     },
     "execution_count": 51,
     "metadata": {},
     "output_type": "execute_result"
    }
   ],
   "source": [
    "x = torch.zeros(5,9,1000)\n",
    "a,b = x.max(1)\n",
    "a.shape, b.shape"
   ]
  },
  {
   "cell_type": "code",
   "execution_count": null,
   "metadata": {},
   "outputs": [],
   "source": [
    "net = AlexNetCaffeAvgPool()\n",
    "X = torch.rand(10, 3, 227,227)\n",
    "conv = net.features(X)\n",
    "out = net.classifier(conv)\n",
    "out = net.class_classifier(out)\n",
    "out.shape"
   ]
  },
  {
   "cell_type": "code",
   "execution_count": null,
   "metadata": {},
   "outputs": [],
   "source": [
    "[k for k in range(0, 20,2)]"
   ]
  },
  {
   "cell_type": "code",
   "execution_count": null,
   "metadata": {},
   "outputs": [],
   "source": [
    "state_dict = torch.load(\"models/pretrained/alexnet_caffe.pth.tar\")\n",
    "state_dict[\"jigsaw_classifier.fc7.weight\"] = state_dict[\"classifier.fc7.weight\"]\n",
    "state_dict[\"jigsaw_classifier.fc7.bias\"] = state_dict[\"classifier.fc7.bias\"]\n",
    "state_dict[\"class_classifier.fc7.weight\"] = state_dict[\"classifier.fc7.weight\"]\n",
    "state_dict[\"class_classifier.fc7.bias\"] = state_dict[\"classifier.fc7.bias\"]\n",
    "del state_dict[\"classifier.fc8.weight\"]\n",
    "del state_dict[\"classifier.fc8.bias\"]\n",
    "del state_dict[\"classifier.fc7.weight\"]\n",
    "del state_dict[\"classifier.fc7.bias\"]\n",
    "model.load_state_dict(state_dict, strict=False)\n",
    "nn.init.xavier_uniform_(model.jigsaw_classifier.fc8.weight, .1)\n",
    "nn.init.constant_(model.jigsaw_classifier.fc8.bias, 0.)\n",
    "nn.init.xavier_uniform_(model.class_classifier.fc8.weight, .1)\n",
    "nn.init.constant_(model.class_classifier.fc8.bias, 0.)"
   ]
  },
  {
   "cell_type": "code",
   "execution_count": null,
   "metadata": {},
   "outputs": [],
   "source": [
    " del state_dict[\"classifier.fc8.weight\"]\n",
    "    del state_dict[\"classifier.fc8.bias\"]\n",
    "    model.load_state_dict(state_dict, strict=False)\n",
    "    nn.init.xavier_uniform_(model.jigsaw_classifier.weight, .1)\n",
    "    nn.init.constant_(model.jigsaw_classifier.bias, 0.)\n",
    "    nn.init.xavier_uniform_(model.class_classifier.weight, .1)\n",
    "    nn.init.constant_(model.class_classifier.bias, 0.)"
   ]
  },
  {
   "cell_type": "code",
   "execution_count": null,
   "metadata": {
    "scrolled": true
   },
   "outputs": [],
   "source": [
    "def imshow(inp, title=None):\n",
    "    \"\"\"Imshow for Tensor.\"\"\"\n",
    "    inp = to_plt(inp)\n",
    "    plt.imshow(inp)\n",
    "    if title is not None:\n",
    "        plt.title(title)\n",
    "        \n",
    "def to_plt(inp):\n",
    "    inp = inp.numpy().transpose((1, 2, 0))\n",
    "    mean = np.array([0.485, 0.456, 0.406])\n",
    "    std = np.array([0.229, 0.224, 0.225])\n",
    "    inp = std * inp + mean\n",
    "    inp = np.clip(inp, 0, 1)\n",
    "    return inp"
   ]
  },
  {
   "cell_type": "code",
   "execution_count": null,
   "metadata": {
    "scrolled": false
   },
   "outputs": [],
   "source": [
    "def plot_grid(tiles):\n",
    "    fig = plt.figure(figsize=(9,9)) \n",
    "    for x in range(3):\n",
    "        for y in range(3):\n",
    "            ax = fig.add_subplot(3,3,1 + x + y*3)\n",
    "            ax.imshow(to_plt(tiles[x+y*3]))\n",
    "            ax.set_axis_off()\n",
    "            ax.set_aspect('equal')\n",
    "    plt.axis('off')\n",
    "    f.tight_layout()\n",
    "\n",
    "    plt.show()"
   ]
  },
  {
   "cell_type": "code",
   "execution_count": null,
   "metadata": {
    "scrolled": true
   },
   "outputs": [],
   "source": [
    "for k,v in enumerate(dataloader):\n",
    "#     plot_grid(v[2])\n",
    "    print(v[1])\n",
    "    if k > 15:\n",
    "        break"
   ]
  },
  {
   "cell_type": "code",
   "execution_count": 1,
   "metadata": {},
   "outputs": [],
   "source": [
    "import torch"
   ]
  },
  {
   "cell_type": "code",
   "execution_count": 16,
   "metadata": {},
   "outputs": [
    {
     "data": {
      "text/plain": [
       "tensor([ 0,  6, 12, 18], dtype=torch.int32)"
      ]
     },
     "execution_count": 16,
     "metadata": {},
     "output_type": "execute_result"
    }
   ],
   "source": [
    "a = torch.arange(0,20,dtype=torch.int)\n",
    "b = a * 2\n",
    "idx1 = (a%2==0) & (a%3==0)\n",
    "idx2 =  a%3==0\n",
    "# b[idx], a[idx]\n",
    "a[idx1]"
   ]
  },
  {
   "cell_type": "code",
   "execution_count": null,
   "metadata": {},
   "outputs": [],
   "source": [
    "\n",
    "\n",
    "\n",
    "def get_dataset_info(dataset_name):\n",
    "    return get_dataset_info.lookup[dataset_name]\n",
    "\n",
    "get_dataset_info.lookup = {name: (\"/home/enoon/data/images/office/\" + name,\"/home/enoon/data/images/office/%s/train.txt\" % name)\n",
    "                           for name in [\"amazon\",\"dslr\",\"webcam\"]}"
   ]
  },
  {
   "cell_type": "code",
   "execution_count": null,
   "metadata": {},
   "outputs": [],
   "source": [
    "get_dataset_info(\"dslr\")"
   ]
  },
  {
   "cell_type": "code",
   "execution_count": 2,
   "metadata": {},
   "outputs": [
    {
     "name": "stdout",
     "output_type": "stream",
     "text": [
      "0 c\n",
      "1 i\n",
      "2 a\n",
      "3 o\n"
     ]
    }
   ],
   "source": [
    "a = range(10)\n",
    "b = list(\"ciao\")\n",
    "for k,v in zip(a,b):\n",
    "    print(k,v)"
   ]
  },
  {
   "cell_type": "code",
   "execution_count": null,
   "metadata": {},
   "outputs": [],
   "source": []
  }
 ],
 "metadata": {
  "kernelspec": {
   "display_name": "Python 3",
   "language": "python",
   "name": "python3"
  },
  "language_info": {
   "codemirror_mode": {
    "name": "ipython",
    "version": 3
   },
   "file_extension": ".py",
   "mimetype": "text/x-python",
   "name": "python",
   "nbconvert_exporter": "python",
   "pygments_lexer": "ipython3",
   "version": "3.6.4"
  }
 },
 "nbformat": 4,
 "nbformat_minor": 2
}
